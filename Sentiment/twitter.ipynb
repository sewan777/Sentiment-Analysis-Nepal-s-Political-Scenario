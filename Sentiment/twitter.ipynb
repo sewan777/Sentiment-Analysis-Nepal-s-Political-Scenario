{
 "cells": [
  {
   "cell_type": "code",
   "execution_count": null,
   "metadata": {
    "vscode": {
     "languageId": "plaintext"
    }
   },
   "outputs": [],
   "source": [
    "from selenium import webdriver\n",
    "from selenium.webdriver.common.by import By\n",
    "import time\n",
    "import csv\n",
    "from datetime import datetime\n",
    "\n",
    "driver = webdriver.Chrome()\n",
    "\n",
    "def fetch_tweets_selenium(query, max_scroll=30):\n",
    "    driver.get(f\"https://twitter.com/search?q={query}&f=live\")\n",
    "    time.sleep(5)\n",
    "    tweets = []\n",
    "    scroll_count = 0\n",
    "    fixed_date = \"2023-10-30\"\n",
    "\n",
    "    while scroll_count < max_scroll:\n",
    "        elements = driver.find_elements(By.XPATH, '//article[@role=\"article\"]')\n",
    "        for element in elements:\n",
    "            try:\n",
    "                content = element.text\n",
    "                timestamp = datetime.now().strftime(\"%Y-%m-%d %H:%M:%S\")\n",
    "                tweets.append([content, fixed_date, timestamp])\n",
    "            except:\n",
    "                continue\n",
    "        driver.execute_script(\"window.scrollTo(0, document.body.scrollHeight);\")\n",
    "        time.sleep(3)\n",
    "        scroll_count += 1\n",
    "    return tweets\n",
    "\n",
    "query = \"@BalenShah -from:BalenShah\"\n",
    "tweets = fetch_tweets_selenium(query, max_scroll=30)\n",
    "\n",
    "with open('tweets_with_fixed_date.csv', 'w', newline='', encoding='utf-8') as csv_file:\n",
    "    writer = csv.writer(csv_file)\n",
    "    writer.writerow(['Tweet', 'Fixed Date', 'Timestamp'])\n",
    "    writer.writerows(tweets)\n",
    "\n",
    "driver.quit()\n",
    "print(\"Tweets saved to 'tweets_with_fixed_date.csv'\")"
   ]
  }
 ],
 "metadata": {
  "language_info": {
   "name": "python"
  }
 },
 "nbformat": 4,
 "nbformat_minor": 2
}
