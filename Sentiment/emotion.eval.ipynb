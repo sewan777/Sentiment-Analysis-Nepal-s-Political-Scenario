{
 "cells": [
  {
   "cell_type": "code",
   "execution_count": 6,
   "metadata": {},
   "outputs": [],
   "source": [
    "import pandas as pd\n",
    "import random"
   ]
  },
  {
   "cell_type": "code",
   "execution_count": 7,
   "metadata": {},
   "outputs": [],
   "source": [
    "data= pd.read_csv(\"C:/Users/Lenovo/OneDrive/Desktop/Structure/before_election_df.csv\")"
   ]
  },
  {
   "cell_type": "code",
   "execution_count": 8,
   "metadata": {},
   "outputs": [
    {
     "data": {
      "text/plain": [
       "neutral     0.436667\n",
       "joy         0.255556\n",
       "anger       0.116667\n",
       "surprise    0.082222\n",
       "sadness     0.064444\n",
       "fear        0.032222\n",
       "disgust     0.012222\n",
       "Name: detected_emotion, dtype: float64"
      ]
     },
     "execution_count": 8,
     "metadata": {},
     "output_type": "execute_result"
    }
   ],
   "source": [
    "# Check the distribution of the 'detected_emotion' column\n",
    "emotion_distribution = data['detected_emotion'].value_counts(normalize=True)\n",
    "\n",
    "# Display the distribution\n",
    "emotion_distribution\n"
   ]
  },
  {
   "cell_type": "code",
   "execution_count": 9,
   "metadata": {},
   "outputs": [
    {
     "name": "stdout",
     "output_type": "stream",
     "text": [
      "Accuracy: 0.710\n",
      "Precision: 0.749\n",
      "Recall: 0.710\n",
      "F1-Score: 0.685\n"
     ]
    }
   ],
   "source": [
    "from sklearn.metrics import accuracy_score, precision_score, recall_score, f1_score\n",
    "manual = pd.read_csv(\"C:/Users/Lenovo/OneDrive/Desktop/Structure/manual_english1.csv\")\n",
    "data = data.iloc[0:100]\n",
    "# Calculate metrics\n",
    "accuracy = accuracy_score(manual['detected_emotion'], data['detected_emotion'])\n",
    "precision = precision_score(manual['detected_emotion'], data['detected_emotion'], average='weighted')\n",
    "recall = recall_score(manual['detected_emotion'], data['detected_emotion'], average='weighted')\n",
    "f1 = f1_score(manual['detected_emotion'], data['detected_emotion'], average='weighted')\n",
    "\n",
    "# Print results\n",
    "print(f\"Accuracy: {accuracy:.3f}\")\n",
    "print(f\"Precision: {precision:.3f}\")\n",
    "print(f\"Recall: {recall:.3f}\")\n",
    "print(f\"F1-Score: {f1:.3f}\")\n",
    "\n"
   ]
  }
 ],
 "metadata": {
  "kernelspec": {
   "display_name": "base",
   "language": "python",
   "name": "python3"
  },
  "language_info": {
   "codemirror_mode": {
    "name": "ipython",
    "version": 3
   },
   "file_extension": ".py",
   "mimetype": "text/x-python",
   "name": "python",
   "nbconvert_exporter": "python",
   "pygments_lexer": "ipython3",
   "version": "3.10.9"
  }
 },
 "nbformat": 4,
 "nbformat_minor": 2
}
